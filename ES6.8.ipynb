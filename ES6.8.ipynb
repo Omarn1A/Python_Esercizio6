{
 "cells": [
  {
   "cell_type": "code",
   "execution_count": 9,
   "id": "2f9687f3-78be-4c0d-a90a-3cf2b5fd2332",
   "metadata": {},
   "outputs": [
    {
     "name": "stdout",
     "output_type": "stream",
     "text": [
      "I seguenti file contengono dati nulli nella directory 'beginner_datasets':\n",
      "-  automobile.csv\n",
      "-  elections.csv\n",
      "-  france.csv\n",
      "-  hepatitis.csv\n",
      "-  house.csv\n",
      "-  income.csv\n",
      "-  mice.csv\n",
      "-  nba.csv\n",
      "-  pokemon.csv\n",
      "-  population.csv\n",
      "-  seeds.csv\n",
      "-  traffic.csv\n",
      "-  wikipedia.csv\n"
     ]
    }
   ],
   "source": [
    "import os\n",
    "import pandas as pd\n",
    "\n",
    "# Definiamo il percorso alla directory dei beginner_datasets\n",
    "directory = \"C:/Users/omara/OneDrive/Desktop/Corso DATA ANALYST/Python/Esercizio 6/mio_progetto/beginner_datasets\"\n",
    "\n",
    "# Lista dei file nella directory\n",
    "files = os.listdir(directory)\n",
    "\n",
    "# Lista per i nomi dei file con dati nulli\n",
    "files_with_nulls = []\n",
    "\n",
    "# Ciclo attraverso i file\n",
    "for file in files:\n",
    "    # Controlla se il file è un file CSV\n",
    "    if file.endswith(\".csv\"):\n",
    "        # Leggi il file CSV in un DataFrame\n",
    "        df = pd.read_csv(os.path.join(directory, file))\n",
    "        \n",
    "        # Conta i valori nulli per ogni colonna\n",
    "        null_counts = df.isnull().sum()\n",
    "        \n",
    "        # Se ci sono valori nulli in almeno una colonna, aggiungi il nome del file alla lista\n",
    "        if null_counts.sum() > 0:\n",
    "            files_with_nulls.append(file)\n",
    "\n",
    "# Stampiamo i file che contengono dati nulli\n",
    "if files_with_nulls:\n",
    "    print(\"I seguenti file contengono dati nulli nella directory 'beginner_datasets':\")\n",
    "    for file_with_nulls in files_with_nulls:\n",
    "        print(\"- \", file_with_nulls)\n",
    "else:\n",
    "    print(\"Nessun file nella directory 'beginner_datasets' contiene dati nulli.\")"
   ]
  }
 ],
 "metadata": {
  "kernelspec": {
   "display_name": "Python 3 (ipykernel)",
   "language": "python",
   "name": "python3"
  },
  "language_info": {
   "codemirror_mode": {
    "name": "ipython",
    "version": 3
   },
   "file_extension": ".py",
   "mimetype": "text/x-python",
   "name": "python",
   "nbconvert_exporter": "python",
   "pygments_lexer": "ipython3",
   "version": "3.11.7"
  }
 },
 "nbformat": 4,
 "nbformat_minor": 5
}
