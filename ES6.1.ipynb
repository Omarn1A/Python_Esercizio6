{
 "cells": [
  {
   "cell_type": "code",
   "execution_count": 1,
   "id": "7a774503-723d-4550-923f-9ab0f7734352",
   "metadata": {},
   "outputs": [],
   "source": [
    "from sqlalchemy import create_engine\n",
    "import dotenv\n",
    "import os\n",
    "import pandas as pd\n",
    "dotenv.load_dotenv(override=True)\n",
    "username = os.getenv('username')\n",
    "password = os.getenv('password')\n",
    "host = os.getenv('host')\n",
    "dbname = os.getenv('dbname')\n",
    "\n",
    "import pandas as pd\n",
    "dbname = \"AdventureWorksDW\"\n",
    "conn_string = f\"mysql+pymysql://{username}:{password}@{host}/{dbname}\"\n",
    "db_engine = create_engine(conn_string)\n",
    "query = \"\"\"SELECT *\n",
    "        FROM dimproduct\n",
    "        \"\"\"\n",
    "df = pd.read_sql(query, db_engine)"
   ]
  },
  {
   "cell_type": "code",
   "execution_count": 4,
   "id": "bc637df7-c010-4433-aaff-b064ac591438",
   "metadata": {},
   "outputs": [
    {
     "data": {
      "text/plain": [
       "Index(['ProductKey', 'ProductAlternateKey', 'ProductSubcategoryKey',\n",
       "       'WeightUnitMeasureCode', 'SizeUnitMeasureCode', 'EnglishProductName',\n",
       "       'SpanishProductName', 'FrenchProductName', 'StandardCost',\n",
       "       'FinishedGoodsFlag', 'Color', 'SafetyStockLevel', 'ReorderPoint',\n",
       "       'ListPrice', 'Size', 'SizeRange', 'Weight', 'DaysToManufacture',\n",
       "       'ProductLine', 'DealerPrice', 'Class', 'Style', 'ModelName',\n",
       "       'LargePhoto', 'EnglishDescription', 'FrenchDescription',\n",
       "       'ChineseDescription', 'ArabicDescription', 'HebrewDescription',\n",
       "       'ThaiDescription', 'GermanDescription', 'JapaneseDescription',\n",
       "       'TurkishDescription', 'StartDate', 'EndDate', 'Status'],\n",
       "      dtype='object')"
      ]
     },
     "execution_count": 4,
     "metadata": {},
     "output_type": "execute_result"
    }
   ],
   "source": [
    "df.columns"
   ]
  },
  {
   "cell_type": "code",
   "execution_count": 5,
   "id": "06a4e7c9-845a-4010-8f34-dbf25e844adb",
   "metadata": {},
   "outputs": [
    {
     "data": {
      "text/plain": [
       "0          NaN\n",
       "1          NaN\n",
       "2          NaN\n",
       "3          NaN\n",
       "4          NaN\n",
       "        ...   \n",
       "601     60.744\n",
       "602     72.894\n",
       "603    323.994\n",
       "604    323.994\n",
       "605    323.994\n",
       "Name: DealerPrice, Length: 606, dtype: float64"
      ]
     },
     "execution_count": 5,
     "metadata": {},
     "output_type": "execute_result"
    }
   ],
   "source": [
    "df['DealerPrice']"
   ]
  },
  {
   "cell_type": "code",
   "execution_count": 7,
   "id": "cdcc9e57-511b-4479-b1ab-8edb8961842f",
   "metadata": {},
   "outputs": [
    {
     "data": {
      "text/plain": [
       "0         NaN\n",
       "1         NaN\n",
       "2         NaN\n",
       "3         NaN\n",
       "4         NaN\n",
       "        ...  \n",
       "601     60.74\n",
       "602     72.89\n",
       "603    323.99\n",
       "604    323.99\n",
       "605    323.99\n",
       "Name: DealerPrice, Length: 606, dtype: float64"
      ]
     },
     "execution_count": 7,
     "metadata": {},
     "output_type": "execute_result"
    }
   ],
   "source": [
    "df['DealerPrice'].round(2)"
   ]
  },
  {
   "cell_type": "code",
   "execution_count": 8,
   "id": "a2b0b82e-86c6-48d2-9ba5-36760e4a5625",
   "metadata": {},
   "outputs": [
    {
     "data": {
      "text/plain": [
       "0        NaN\n",
       "1        NaN\n",
       "2        NaN\n",
       "3        NaN\n",
       "4        NaN\n",
       "       ...  \n",
       "601     61.0\n",
       "602     73.0\n",
       "603    324.0\n",
       "604    324.0\n",
       "605    324.0\n",
       "Name: DealerPrice, Length: 606, dtype: float64"
      ]
     },
     "execution_count": 8,
     "metadata": {},
     "output_type": "execute_result"
    }
   ],
   "source": [
    "df['DealerPrice'].round(0)"
   ]
  },
  {
   "cell_type": "code",
   "execution_count": 9,
   "id": "f7cc65b9-6cb5-49c8-8820-54122a7bd6be",
   "metadata": {},
   "outputs": [
    {
     "data": {
      "text/plain": [
       "0          NaN\n",
       "1          NaN\n",
       "2          NaN\n",
       "3          NaN\n",
       "4          NaN\n",
       "        ...   \n",
       "601     60.744\n",
       "602     72.894\n",
       "603    100.000\n",
       "604    100.000\n",
       "605    100.000\n",
       "Name: DealerPrice, Length: 606, dtype: float64"
      ]
     },
     "execution_count": 9,
     "metadata": {},
     "output_type": "execute_result"
    }
   ],
   "source": [
    "df['DealerPrice'].clip(lower=0, upper=100)"
   ]
  },
  {
   "cell_type": "code",
   "execution_count": null,
   "id": "7111a3c7-a2e5-4c76-96b1-2dec33e6ed8f",
   "metadata": {},
   "outputs": [],
   "source": []
  }
 ],
 "metadata": {
  "kernelspec": {
   "display_name": "Python 3 (ipykernel)",
   "language": "python",
   "name": "python3"
  },
  "language_info": {
   "codemirror_mode": {
    "name": "ipython",
    "version": 3
   },
   "file_extension": ".py",
   "mimetype": "text/x-python",
   "name": "python",
   "nbconvert_exporter": "python",
   "pygments_lexer": "ipython3",
   "version": "3.11.7"
  }
 },
 "nbformat": 4,
 "nbformat_minor": 5
}
